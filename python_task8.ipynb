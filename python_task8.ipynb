{
 "cells": [
  {
   "cell_type": "code",
   "execution_count": 1,
   "id": "f46bd2d2",
   "metadata": {},
   "outputs": [
    {
     "data": {
      "image/png": "[encoded data removed]",
      "text/plain": [
       "<Figure size 504x360 with 1 Axes>"
      ]
     },
     "metadata": {
      "needs_background": "light"
     },
     "output_type": "display_data"
    }
   ],
   "source": [
    "# importing matplotlib library for plotting the graph\n",
    "import matplotlib.pyplot as plt\n",
    "import numpy as np\n",
    "\n",
    "#Importing csv module to use csv.reader object for reading the csv file\n",
    "import csv\n",
    "\n",
    "#creatingan empty list to populating the axis x forthe graph\n",
    "x = []\n",
    "\n",
    "#open method to open the file and return a file objet\n",
    "file = open('company_sales_data.csv')\n",
    "\n",
    "#csv readerobject to read the csv  file\n",
    "csvreader = csv.reader(file)\n",
    "\n",
    "# next method to obtain the first row(the header)\n",
    "header = next(csvreader)\n",
    "\n",
    "# iterate through the rows of the csvreader object and append  the empty lists for plotting the x- axix and y-axix\n",
    "for row in csvreader:\n",
    "    x.append(int(row[8]))\n",
    "          \n",
    "#.close() method to close the opened file  \n",
    "file.close()\n",
    "#plotting figure size  with user defined width and length\n",
    "f = plt.figure()\n",
    "f.set_figwidth(7)\n",
    "f.set_figheight(5)\n",
    "# array()function of numpy for ceating an array object\n",
    "n = np.array(x)\n",
    "#plotting the histogram using hist() of matplot lib.\n",
    "plt.hist(n, bins= [150000,175000,200000,225000,250000,300000,350000], label='profit data')\n",
    "\n",
    "#adding legent in the plot\n",
    "plt.legend(loc= 'upper left')\n",
    "\n",
    "#plt.grid(linestyle='--')\n",
    "\n",
    "# adding tittle\n",
    "plt.title('profit data')\n",
    "\n",
    "#naming x-axis and y-axis\n",
    "plt.xlabel('profit range in dollar')\n",
    "plt.ylabel('actual profit in dollar')\n",
    "\n",
    "#Displaying the graph\n",
    "plt.show()\n"
   ]
  },
  {
   "cell_type": "code",
   "execution_count": null,
   "id": "95ec405d",
   "metadata": {},
   "outputs": [],
   "source": []
  },
  {
   "cell_type": "code",
   "execution_count": null,
   "id": "396dfd3e",
   "metadata": {},
   "outputs": [],
   "source": []
  }
 ],
 "metadata": {
  "kernelspec": {
   "display_name": "Python 3 (ipykernel)",
   "language": "python",
   "name": "python3"
  },
  "language_info": {
   "codemirror_mode": {
    "name": "ipython",
    "version": 3
   },
   "file_extension": ".py",
   "mimetype": "text/x-python",
   "name": "python",
   "nbconvert_exporter": "python",
   "pygments_lexer": "ipython3",
   "version": "3.9.7"
  }
 },
 "nbformat": 4,
 "nbformat_minor": 5
}
